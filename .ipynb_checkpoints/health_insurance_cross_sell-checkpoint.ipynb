{
 "cells": [
  {
   "cell_type": "markdown",
   "id": "cf4b9158",
   "metadata": {
    "heading_collapsed": true
   },
   "source": [
    "# 0.0 IMPORTS"
   ]
  },
  {
   "cell_type": "code",
   "execution_count": 1,
   "id": "ded8b76a",
   "metadata": {
    "ExecuteTime": {
     "end_time": "2022-09-28T20:43:45.103726Z",
     "start_time": "2022-09-28T20:43:44.043952Z"
    },
    "hidden": true
   },
   "outputs": [],
   "source": [
    "import json\n",
    "import numpy    as np\n",
    "import pandas   as pd\n",
    "import psycopg2\n",
    "import seaborn  as sns\n",
    "\n",
    "from IPython.core.display  import HTML\n",
    "from matplotlib            import pyplot as plt\n",
    "from sqlalchemy            import create_engine"
   ]
  },
  {
   "cell_type": "markdown",
   "id": "e5a1c23a",
   "metadata": {
    "heading_collapsed": true,
    "hidden": true
   },
   "source": [
    "## 0.1. Helper Functions"
   ]
  },
  {
   "cell_type": "code",
   "execution_count": 3,
   "id": "91b7a883",
   "metadata": {
    "ExecuteTime": {
     "end_time": "2022-09-28T20:43:57.323702Z",
     "start_time": "2022-09-28T20:43:57.313730Z"
    },
    "hidden": true
   },
   "outputs": [
    {
     "data": {
      "text/html": [
       "<style>.container { width:100% !important; }</style>"
      ],
      "text/plain": [
       "<IPython.core.display.HTML object>"
      ]
     },
     "metadata": {},
     "output_type": "display_data"
    }
   ],
   "source": [
    "def jupyter_settings():\n",
    "    %matplotlib inline\n",
    "    \n",
    "    plt.style.use( 'bmh' )\n",
    "    plt.rcParams['figure.figsize'] = [25, 12]\n",
    "    plt.rcParams['font.size'] = 24\n",
    "    \n",
    "    display( HTML( '<style>.container { width:100% !important; }</style>') )\n",
    "    pd.options.display.max_columns = None\n",
    "    pd.options.display.max_rows = None\n",
    "    pd.set_option( 'display.expand_frame_repr', False )\n",
    "    \n",
    "    sns.set()\n",
    "    \n",
    "    return None\n",
    "\n",
    "jupyter_settings()"
   ]
  },
  {
   "cell_type": "markdown",
   "id": "a42cb84d",
   "metadata": {
    "heading_collapsed": true,
    "hidden": true
   },
   "source": [
    "## 0.2. Loading data"
   ]
  },
  {
   "cell_type": "markdown",
   "id": "70c752b8",
   "metadata": {
    "heading_collapsed": true,
    "hidden": true
   },
   "source": [
    "### 0.1.1. Creating connection"
   ]
  },
  {
   "cell_type": "code",
   "execution_count": 4,
   "id": "f1d1b166",
   "metadata": {
    "ExecuteTime": {
     "end_time": "2022-09-28T20:44:06.814872Z",
     "start_time": "2022-09-28T20:44:03.984061Z"
    },
    "hidden": true
   },
   "outputs": [],
   "source": [
    "with open('credentials.json') as json_file:\n",
    "     credentials= json.load(json_file)\n",
    "        \n",
    "host = credentials['host']\n",
    "port = credentials['port']\n",
    "database = credentials['database']\n",
    "username = credentials['username']\n",
    "password = credentials['password']\n",
    "\n",
    "db = create_engine('postgresql+psycopg2://' + username + ':' + password + '@' + host + ':' + port + '/' + database)\n",
    "conn = db.connect()"
   ]
  },
  {
   "cell_type": "markdown",
   "id": "deca37cb",
   "metadata": {
    "heading_collapsed": true,
    "hidden": true
   },
   "source": [
    "### 0.1.2. Query Schemas"
   ]
  },
  {
   "cell_type": "code",
   "execution_count": 3,
   "id": "8ff35e90",
   "metadata": {
    "ExecuteTime": {
     "end_time": "2022-09-28T19:43:44.057899Z",
     "start_time": "2022-09-28T19:43:43.535793Z"
    },
    "hidden": true
   },
   "outputs": [
    {
     "data": {
      "text/html": [
       "<div>\n",
       "<style scoped>\n",
       "    .dataframe tbody tr th:only-of-type {\n",
       "        vertical-align: middle;\n",
       "    }\n",
       "\n",
       "    .dataframe tbody tr th {\n",
       "        vertical-align: top;\n",
       "    }\n",
       "\n",
       "    .dataframe thead th {\n",
       "        text-align: right;\n",
       "    }\n",
       "</style>\n",
       "<table border=\"1\" class=\"dataframe\">\n",
       "  <thead>\n",
       "    <tr style=\"text-align: right;\">\n",
       "      <th></th>\n",
       "      <th>nspname</th>\n",
       "    </tr>\n",
       "  </thead>\n",
       "  <tbody>\n",
       "    <tr>\n",
       "      <th>0</th>\n",
       "      <td>pg_toast</td>\n",
       "    </tr>\n",
       "    <tr>\n",
       "      <th>1</th>\n",
       "      <td>pg_temp_1</td>\n",
       "    </tr>\n",
       "    <tr>\n",
       "      <th>2</th>\n",
       "      <td>pg_toast_temp_1</td>\n",
       "    </tr>\n",
       "    <tr>\n",
       "      <th>3</th>\n",
       "      <td>pg_catalog</td>\n",
       "    </tr>\n",
       "    <tr>\n",
       "      <th>4</th>\n",
       "      <td>information_schema</td>\n",
       "    </tr>\n",
       "    <tr>\n",
       "      <th>5</th>\n",
       "      <td>public</td>\n",
       "    </tr>\n",
       "    <tr>\n",
       "      <th>6</th>\n",
       "      <td>pa004</td>\n",
       "    </tr>\n",
       "    <tr>\n",
       "      <th>7</th>\n",
       "      <td>pg_temp_4</td>\n",
       "    </tr>\n",
       "    <tr>\n",
       "      <th>8</th>\n",
       "      <td>pg_toast_temp_4</td>\n",
       "    </tr>\n",
       "    <tr>\n",
       "      <th>9</th>\n",
       "      <td>pa005</td>\n",
       "    </tr>\n",
       "    <tr>\n",
       "      <th>10</th>\n",
       "      <td>pg_temp_9</td>\n",
       "    </tr>\n",
       "    <tr>\n",
       "      <th>11</th>\n",
       "      <td>pg_toast_temp_9</td>\n",
       "    </tr>\n",
       "  </tbody>\n",
       "</table>\n",
       "</div>"
      ],
      "text/plain": [
       "               nspname\n",
       "0             pg_toast\n",
       "1            pg_temp_1\n",
       "2      pg_toast_temp_1\n",
       "3           pg_catalog\n",
       "4   information_schema\n",
       "5               public\n",
       "6                pa004\n",
       "7            pg_temp_4\n",
       "8      pg_toast_temp_4\n",
       "9                pa005\n",
       "10           pg_temp_9\n",
       "11     pg_toast_temp_9"
      ]
     },
     "execution_count": 3,
     "metadata": {},
     "output_type": "execute_result"
    }
   ],
   "source": [
    "query_schema = \"\"\"\n",
    "    SELECT nspname\n",
    "    FROM pg_catalog.pg_namespace\n",
    "\"\"\"\n",
    "\n",
    "pd.read_sql(query_schema, conn)"
   ]
  },
  {
   "cell_type": "markdown",
   "id": "bba6cc8b",
   "metadata": {
    "heading_collapsed": true,
    "hidden": true
   },
   "source": [
    "### 0.1.3. Query Tables"
   ]
  },
  {
   "cell_type": "code",
   "execution_count": 4,
   "id": "35013788",
   "metadata": {
    "ExecuteTime": {
     "end_time": "2022-09-28T19:43:46.980893Z",
     "start_time": "2022-09-28T19:43:46.642895Z"
    },
    "hidden": true
   },
   "outputs": [
    {
     "data": {
      "text/html": [
       "<div>\n",
       "<style scoped>\n",
       "    .dataframe tbody tr th:only-of-type {\n",
       "        vertical-align: middle;\n",
       "    }\n",
       "\n",
       "    .dataframe tbody tr th {\n",
       "        vertical-align: top;\n",
       "    }\n",
       "\n",
       "    .dataframe thead th {\n",
       "        text-align: right;\n",
       "    }\n",
       "</style>\n",
       "<table border=\"1\" class=\"dataframe\">\n",
       "  <thead>\n",
       "    <tr style=\"text-align: right;\">\n",
       "      <th></th>\n",
       "      <th>tablename</th>\n",
       "    </tr>\n",
       "  </thead>\n",
       "  <tbody>\n",
       "    <tr>\n",
       "      <th>0</th>\n",
       "      <td>users</td>\n",
       "    </tr>\n",
       "    <tr>\n",
       "      <th>1</th>\n",
       "      <td>vehicle</td>\n",
       "    </tr>\n",
       "    <tr>\n",
       "      <th>2</th>\n",
       "      <td>insurance</td>\n",
       "    </tr>\n",
       "  </tbody>\n",
       "</table>\n",
       "</div>"
      ],
      "text/plain": [
       "   tablename\n",
       "0      users\n",
       "1    vehicle\n",
       "2  insurance"
      ]
     },
     "execution_count": 4,
     "metadata": {},
     "output_type": "execute_result"
    }
   ],
   "source": [
    "query_table = \"\"\"\n",
    "    SELECT tablename\n",
    "    FROM pg_tables\n",
    "    WHERE schemaname = 'pa004' \n",
    "\"\"\"\n",
    "\n",
    "pd.read_sql(query_table, conn)"
   ]
  },
  {
   "cell_type": "markdown",
   "id": "c28d8a06",
   "metadata": {
    "heading_collapsed": true,
    "hidden": true
   },
   "source": [
    "### 0.1.4. Query Join Tables"
   ]
  },
  {
   "cell_type": "code",
   "execution_count": 5,
   "id": "cb7862b6",
   "metadata": {
    "ExecuteTime": {
     "end_time": "2022-09-28T20:44:29.026139Z",
     "start_time": "2022-09-28T20:44:17.352124Z"
    },
    "hidden": true
   },
   "outputs": [],
   "source": [
    "query_join = \"\"\"\n",
    "SELECT  *\n",
    "FROM pa004.users u INNER JOIN pa004.insurance i USING (id)\n",
    "                   INNER JOIN pa004.vehicle v   USING (id)\n",
    "\"\"\"\n",
    "\n",
    "df_raw = pd.read_sql(query_join, conn)"
   ]
  },
  {
   "cell_type": "markdown",
   "id": "9762bff3",
   "metadata": {
    "heading_collapsed": true,
    "hidden": true
   },
   "source": [
    "### 0.1.5. Close connection"
   ]
  },
  {
   "cell_type": "code",
   "execution_count": 6,
   "id": "50e616c3",
   "metadata": {
    "ExecuteTime": {
     "end_time": "2022-09-28T20:44:32.135678Z",
     "start_time": "2022-09-28T20:44:31.954154Z"
    },
    "hidden": true
   },
   "outputs": [],
   "source": [
    "conn.close()"
   ]
  },
  {
   "cell_type": "markdown",
   "id": "b3d1fbf5",
   "metadata": {},
   "source": [
    "# 1.0. DESCRICAO DOS DADOS"
   ]
  },
  {
   "cell_type": "code",
   "execution_count": 7,
   "id": "4aa00b7a",
   "metadata": {
    "ExecuteTime": {
     "end_time": "2022-09-28T20:44:52.249697Z",
     "start_time": "2022-09-28T20:44:52.207816Z"
    }
   },
   "outputs": [],
   "source": [
    "df1 = df_raw.copy()"
   ]
  },
  {
   "cell_type": "markdown",
   "id": "da08619f",
   "metadata": {
    "heading_collapsed": true
   },
   "source": [
    "## 1.1. Data Dimensions"
   ]
  },
  {
   "cell_type": "code",
   "execution_count": 8,
   "id": "8c00b6a3",
   "metadata": {
    "ExecuteTime": {
     "end_time": "2022-09-28T20:44:58.587700Z",
     "start_time": "2022-09-28T20:44:58.576726Z"
    },
    "hidden": true
   },
   "outputs": [
    {
     "name": "stdout",
     "output_type": "stream",
     "text": [
      "Number of Rows: 381109\n",
      "Number of Columns: 12\n"
     ]
    }
   ],
   "source": [
    "print(f'Number of Rows: {df1.shape[0]}')\n",
    "print(f'Number of Columns: {df1.shape[1]}')"
   ]
  },
  {
   "cell_type": "markdown",
   "id": "24fd623b",
   "metadata": {},
   "source": [
    "## 1.2. Data Types"
   ]
  },
  {
   "cell_type": "code",
   "execution_count": 9,
   "id": "ba8e457f",
   "metadata": {
    "ExecuteTime": {
     "end_time": "2022-09-28T19:44:40.802920Z",
     "start_time": "2022-09-28T19:44:40.794914Z"
    }
   },
   "outputs": [
    {
     "data": {
      "text/plain": [
       "id                        int64\n",
       "gender                   object\n",
       "age                       int64\n",
       "region_code             float64\n",
       "policy_sales_channel    float64\n",
       "previously_insured        int64\n",
       "annual_premium          float64\n",
       "vintage                   int64\n",
       "response                  int64\n",
       "driving_license           int64\n",
       "vehicle_age              object\n",
       "vehicle_damage           object\n",
       "dtype: object"
      ]
     },
     "execution_count": 9,
     "metadata": {},
     "output_type": "execute_result"
    }
   ],
   "source": [
    "df1.dtypes"
   ]
  },
  {
   "cell_type": "markdown",
   "id": "db442897",
   "metadata": {
    "heading_collapsed": true
   },
   "source": [
    "## 1.3. Check NA"
   ]
  },
  {
   "cell_type": "code",
   "execution_count": 10,
   "id": "c94d9db9",
   "metadata": {
    "ExecuteTime": {
     "end_time": "2022-09-28T19:45:04.111088Z",
     "start_time": "2022-09-28T19:45:03.978693Z"
    },
    "hidden": true
   },
   "outputs": [
    {
     "data": {
      "text/plain": [
       "id                      0\n",
       "gender                  0\n",
       "age                     0\n",
       "region_code             0\n",
       "policy_sales_channel    0\n",
       "previously_insured      0\n",
       "annual_premium          0\n",
       "vintage                 0\n",
       "response                0\n",
       "driving_license         0\n",
       "vehicle_age             0\n",
       "vehicle_damage          0\n",
       "dtype: int64"
      ]
     },
     "execution_count": 10,
     "metadata": {},
     "output_type": "execute_result"
    }
   ],
   "source": [
    "df1.isna().sum()"
   ]
  },
  {
   "cell_type": "markdown",
   "id": "357784bd",
   "metadata": {},
   "source": [
    "## 1.4. Descriptive Statistics"
   ]
  },
  {
   "cell_type": "code",
   "execution_count": 11,
   "id": "a2e93396",
   "metadata": {
    "ExecuteTime": {
     "end_time": "2022-09-28T19:46:47.588453Z",
     "start_time": "2022-09-28T19:46:47.549396Z"
    }
   },
   "outputs": [],
   "source": [
    "num_attributes = df1.select_dtypes(include = [int,float])\n",
    "cat_attributes = df1.select_dtypes(include = object)"
   ]
  },
  {
   "cell_type": "markdown",
   "id": "8c453eff",
   "metadata": {
    "heading_collapsed": true
   },
   "source": [
    "## 1.4.1. Numerical Atributtes"
   ]
  },
  {
   "cell_type": "code",
   "execution_count": 16,
   "id": "f0f4203f",
   "metadata": {
    "ExecuteTime": {
     "end_time": "2022-09-28T19:48:15.522953Z",
     "start_time": "2022-09-28T19:48:14.985338Z"
    },
    "hidden": true
   },
   "outputs": [
    {
     "data": {
      "text/html": [
       "<div>\n",
       "<style scoped>\n",
       "    .dataframe tbody tr th:only-of-type {\n",
       "        vertical-align: middle;\n",
       "    }\n",
       "\n",
       "    .dataframe tbody tr th {\n",
       "        vertical-align: top;\n",
       "    }\n",
       "\n",
       "    .dataframe thead th {\n",
       "        text-align: right;\n",
       "    }\n",
       "</style>\n",
       "<table border=\"1\" class=\"dataframe\">\n",
       "  <thead>\n",
       "    <tr style=\"text-align: right;\">\n",
       "      <th></th>\n",
       "      <th>attributes</th>\n",
       "      <th>min</th>\n",
       "      <th>max</th>\n",
       "      <th>range</th>\n",
       "      <th>mean</th>\n",
       "      <th>median</th>\n",
       "      <th>std</th>\n",
       "      <th>skew</th>\n",
       "      <th>kurtosis</th>\n",
       "    </tr>\n",
       "  </thead>\n",
       "  <tbody>\n",
       "    <tr>\n",
       "      <th>0</th>\n",
       "      <td>id</td>\n",
       "      <td>1.0</td>\n",
       "      <td>381109.0</td>\n",
       "      <td>381108.0</td>\n",
       "      <td>190555.000000</td>\n",
       "      <td>190555.0</td>\n",
       "      <td>110016.691870</td>\n",
       "      <td>-8.071174e-18</td>\n",
       "      <td>-1.200000</td>\n",
       "    </tr>\n",
       "    <tr>\n",
       "      <th>1</th>\n",
       "      <td>age</td>\n",
       "      <td>20.0</td>\n",
       "      <td>85.0</td>\n",
       "      <td>65.0</td>\n",
       "      <td>38.822584</td>\n",
       "      <td>36.0</td>\n",
       "      <td>15.511591</td>\n",
       "      <td>6.725390e-01</td>\n",
       "      <td>-0.565655</td>\n",
       "    </tr>\n",
       "    <tr>\n",
       "      <th>2</th>\n",
       "      <td>region_code</td>\n",
       "      <td>0.0</td>\n",
       "      <td>52.0</td>\n",
       "      <td>52.0</td>\n",
       "      <td>26.388807</td>\n",
       "      <td>28.0</td>\n",
       "      <td>13.229871</td>\n",
       "      <td>-1.152664e-01</td>\n",
       "      <td>-0.867857</td>\n",
       "    </tr>\n",
       "    <tr>\n",
       "      <th>3</th>\n",
       "      <td>policy_sales_channel</td>\n",
       "      <td>1.0</td>\n",
       "      <td>163.0</td>\n",
       "      <td>162.0</td>\n",
       "      <td>112.034295</td>\n",
       "      <td>133.0</td>\n",
       "      <td>54.203924</td>\n",
       "      <td>-9.000081e-01</td>\n",
       "      <td>-0.970810</td>\n",
       "    </tr>\n",
       "    <tr>\n",
       "      <th>4</th>\n",
       "      <td>previously_insured</td>\n",
       "      <td>0.0</td>\n",
       "      <td>1.0</td>\n",
       "      <td>1.0</td>\n",
       "      <td>0.458210</td>\n",
       "      <td>0.0</td>\n",
       "      <td>0.498251</td>\n",
       "      <td>1.677471e-01</td>\n",
       "      <td>-1.971871</td>\n",
       "    </tr>\n",
       "    <tr>\n",
       "      <th>5</th>\n",
       "      <td>annual_premium</td>\n",
       "      <td>2630.0</td>\n",
       "      <td>540165.0</td>\n",
       "      <td>537535.0</td>\n",
       "      <td>30564.389581</td>\n",
       "      <td>31669.0</td>\n",
       "      <td>17213.132474</td>\n",
       "      <td>1.766087e+00</td>\n",
       "      <td>34.004569</td>\n",
       "    </tr>\n",
       "    <tr>\n",
       "      <th>6</th>\n",
       "      <td>vintage</td>\n",
       "      <td>10.0</td>\n",
       "      <td>299.0</td>\n",
       "      <td>289.0</td>\n",
       "      <td>154.347397</td>\n",
       "      <td>154.0</td>\n",
       "      <td>83.671194</td>\n",
       "      <td>3.029517e-03</td>\n",
       "      <td>-1.200688</td>\n",
       "    </tr>\n",
       "    <tr>\n",
       "      <th>7</th>\n",
       "      <td>response</td>\n",
       "      <td>0.0</td>\n",
       "      <td>1.0</td>\n",
       "      <td>1.0</td>\n",
       "      <td>0.122563</td>\n",
       "      <td>0.0</td>\n",
       "      <td>0.327935</td>\n",
       "      <td>2.301906e+00</td>\n",
       "      <td>3.298788</td>\n",
       "    </tr>\n",
       "    <tr>\n",
       "      <th>8</th>\n",
       "      <td>driving_license</td>\n",
       "      <td>0.0</td>\n",
       "      <td>1.0</td>\n",
       "      <td>1.0</td>\n",
       "      <td>0.997869</td>\n",
       "      <td>1.0</td>\n",
       "      <td>0.046109</td>\n",
       "      <td>-2.159518e+01</td>\n",
       "      <td>464.354302</td>\n",
       "    </tr>\n",
       "  </tbody>\n",
       "</table>\n",
       "</div>"
      ],
      "text/plain": [
       "             attributes     min       max     range           mean    median  \\\n",
       "0                    id     1.0  381109.0  381108.0  190555.000000  190555.0   \n",
       "1                   age    20.0      85.0      65.0      38.822584      36.0   \n",
       "2           region_code     0.0      52.0      52.0      26.388807      28.0   \n",
       "3  policy_sales_channel     1.0     163.0     162.0     112.034295     133.0   \n",
       "4    previously_insured     0.0       1.0       1.0       0.458210       0.0   \n",
       "5        annual_premium  2630.0  540165.0  537535.0   30564.389581   31669.0   \n",
       "6               vintage    10.0     299.0     289.0     154.347397     154.0   \n",
       "7              response     0.0       1.0       1.0       0.122563       0.0   \n",
       "8       driving_license     0.0       1.0       1.0       0.997869       1.0   \n",
       "\n",
       "             std          skew    kurtosis  \n",
       "0  110016.691870 -8.071174e-18   -1.200000  \n",
       "1      15.511591  6.725390e-01   -0.565655  \n",
       "2      13.229871 -1.152664e-01   -0.867857  \n",
       "3      54.203924 -9.000081e-01   -0.970810  \n",
       "4       0.498251  1.677471e-01   -1.971871  \n",
       "5   17213.132474  1.766087e+00   34.004569  \n",
       "6      83.671194  3.029517e-03   -1.200688  \n",
       "7       0.327935  2.301906e+00    3.298788  \n",
       "8       0.046109 -2.159518e+01  464.354302  "
      ]
     },
     "execution_count": 16,
     "metadata": {},
     "output_type": "execute_result"
    }
   ],
   "source": [
    "# Central Tendency - mean, meadina \n",
    "ct1 = pd.DataFrame( num_attributes.apply( np.mean ) ).T\n",
    "ct2 = pd.DataFrame( num_attributes.apply( np.median ) ).T\n",
    "\n",
    "# dispersion - std, min, max, range, skew, kurtosis\n",
    "d1 = pd.DataFrame( num_attributes.apply( np.std ) ).T \n",
    "d2 = pd.DataFrame( num_attributes.apply( min ) ).T \n",
    "d3 = pd.DataFrame( num_attributes.apply( max ) ).T \n",
    "d4 = pd.DataFrame( num_attributes.apply( lambda x: x.max() - x.min() ) ).T \n",
    "d5 = pd.DataFrame( num_attributes.apply( lambda x: x.skew() ) ).T \n",
    "d6 = pd.DataFrame( num_attributes.apply( lambda x: x.kurtosis() ) ).T \n",
    "\n",
    "# concatenar\n",
    "m = pd.concat( [d2, d3, d4, ct1, ct2, d1, d5, d6] ).T.reset_index()\n",
    "m.columns = ['attributes', 'min', 'max', 'range', 'mean', 'median', 'std', 'skew', 'kurtosis']\n",
    "m"
   ]
  },
  {
   "cell_type": "markdown",
   "id": "ed854a0e",
   "metadata": {
    "ExecuteTime": {
     "end_time": "2022-09-28T19:48:43.839243Z",
     "start_time": "2022-09-28T19:48:43.821256Z"
    },
    "heading_collapsed": true
   },
   "source": [
    "## 1.4.2. Categorical Atributtes"
   ]
  },
  {
   "cell_type": "code",
   "execution_count": 46,
   "id": "f87b28b2",
   "metadata": {
    "ExecuteTime": {
     "end_time": "2022-09-28T20:25:30.863868Z",
     "start_time": "2022-09-28T20:25:30.194559Z"
    },
    "hidden": true
   },
   "outputs": [
    {
     "data": {
      "image/png": "[encoded data removed]",
      "text/plain": [
       "<Figure size 2500x1200 with 3 Axes>"
      ]
     },
     "metadata": {},
     "output_type": "display_data"
    }
   ],
   "source": [
    "df_grouped = df1[['id','response', 'gender']].groupby(['gender','response']).count().reset_index()\n",
    "plt.subplot( 1, 3, 1 )\n",
    "sns.barplot( x='gender', y='id', hue = 'response', data=df_grouped);\n",
    "\n",
    "df_grouped = df1[['id','response', 'vehicle_age']].groupby(['vehicle_age','response']).count().reset_index()\n",
    "plt.subplot( 1, 3, 2 )\n",
    "sns.barplot( x='vehicle_age', y='id', hue = 'response', data=df_grouped);\n",
    "\n",
    "df_grouped = df1[['id','response', 'vehicle_damage']].groupby(['vehicle_damage','response']).count().reset_index()\n",
    "plt.subplot( 1, 3, 3 )\n",
    "sns.barplot( x='vehicle_damage', y='id', hue = 'response', data=df_grouped);"
   ]
  },
  {
   "cell_type": "markdown",
   "id": "f26c9430",
   "metadata": {},
   "source": [
    "# 2.0. FEATURE ENGINEERING"
   ]
  },
  {
   "cell_type": "markdown",
   "id": "ba0ea815",
   "metadata": {},
   "source": [
    "## 2.1. Mapa Mental de Hipoteses"
   ]
  },
  {
   "cell_type": "code",
   "execution_count": null,
   "id": "e32a171d",
   "metadata": {},
   "outputs": [],
   "source": []
  },
  {
   "cell_type": "code",
   "execution_count": null,
   "id": "b9fe471e",
   "metadata": {},
   "outputs": [],
   "source": []
  }
 ],
 "metadata": {
  "kernelspec": {
   "display_name": "Python 3 (ipykernel)",
   "language": "python",
   "name": "python3"
  },
  "language_info": {
   "codemirror_mode": {
    "name": "ipython",
    "version": 3
   },
   "file_extension": ".py",
   "mimetype": "text/x-python",
   "name": "python",
   "nbconvert_exporter": "python",
   "pygments_lexer": "ipython3",
   "version": "3.9.13"
  }
 },
 "nbformat": 4,
 "nbformat_minor": 5
}
